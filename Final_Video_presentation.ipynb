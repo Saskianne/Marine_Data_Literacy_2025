{
 "cells": [
  {
   "cell_type": "markdown",
   "id": "6910a6ac",
   "metadata": {},
   "source": [
    "## Final Video Presentation"
   ]
  },
  {
   "cell_type": "markdown",
   "id": "541817e0",
   "metadata": {},
   "source": [
    "1. Cover\n",
    "BIP Marine Data Literacy 2025\n",
    "Group 2, May 2025"
   ]
  }
 ],
 "metadata": {
  "language_info": {
   "name": "python"
  }
 },
 "nbformat": 4,
 "nbformat_minor": 5
}

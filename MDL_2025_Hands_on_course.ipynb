{
 "cells": [
  {
   "cell_type": "markdown",
   "id": "bcdd55a9",
   "metadata": {},
   "source": [
    "# Marine Data Literacy 2025\n",
    "### Hands-On course about marine data access and analysis\n",
    "\n",
    "#### Contents\n",
    "- Day 1: \n",
    "    - Sea Level Data Analysis\n",
    "    - MOHID: Estuarine Water Flow Data modelling\n",
    "    - Video Making"
   ]
  },
  {
   "cell_type": "markdown",
   "id": "8299b9cc",
   "metadata": {},
   "source": [
    "### Day 1\n",
    "\n",
    "- Sea Level Data\n",
    "    - Theoretical introduction for sea level change\n",
    "    - Sea level change analysis (scripts provided)\n",
    "        - Plotting the data \n",
    "        - Sample distribution analysis\n",
    "        - Climate regime analysis\n",
    "\n",
    "- MOHID: FLOOD\n",
    "    - Modelling of \n",
    "    - Working with the ows working data file on OpenFlows FLOOD software\n",
    "        - Open the digital terrain data\n",
    "        - open the .dat files (written in the fortran language)\n",
    "\n",
    "    - http://mohid.com/\n",
    "    - https://wiki.mohid.com/index.php?title=Keyword_list#Module_Atmosphere\n",
    "    - We modelled the flow of the estuarine water in a time series and predicted it based on the past data\n",
    "        - Several data can be overlapped and used for the modelling to predict/visualize their dependencies\n",
    "        - The estuarine water velocity, salinity, lagrarian particles etc. were modelled to see the intertial effect on water flow and the impact on our activities such as swimming \n",
    "\n",
    "- How to make the final assessment video"
   ]
  }
 ],
 "metadata": {
  "language_info": {
   "name": "python"
  }
 },
 "nbformat": 4,
 "nbformat_minor": 5
}

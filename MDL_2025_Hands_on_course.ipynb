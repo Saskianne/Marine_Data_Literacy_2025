{
 "cells": [
  {
   "cell_type": "markdown",
   "id": "bcdd55a9",
   "metadata": {},
   "source": [
    "# Marine Data Literacy 2025\n",
    "### Hands-On course about marine data access and analysis\n",
    "\n",
    "#### Contents\n",
    "- Day 1: \n",
    "    - Sea level data access and the files on the "
   ]
  }
 ],
 "metadata": {
  "language_info": {
   "name": "python"
  }
 },
 "nbformat": 4,
 "nbformat_minor": 5
}
